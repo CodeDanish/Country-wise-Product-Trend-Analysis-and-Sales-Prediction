{
 "cells": [
  {
   "cell_type": "code",
   "execution_count": 1,
   "id": "37ebe27c",
   "metadata": {
    "scrolled": false
   },
   "outputs": [],
   "source": [
    "# Import necessary libraries\n",
    "import numpy as np\n",
    "import pandas as pd\n",
    "from sklearn.model_selection import train_test_split\n",
    "from sklearn.preprocessing import LabelEncoder\n",
    "from sklearn.ensemble import RandomForestRegressor\n",
    "from sklearn.metrics import mean_absolute_error\n",
    "from sklearn.metrics import r2_score"
   ]
  },
  {
   "cell_type": "code",
   "execution_count": 2,
   "id": "0228107e",
   "metadata": {},
   "outputs": [
    {
     "data": {
      "text/html": [
       "<div>\n",
       "<style scoped>\n",
       "    .dataframe tbody tr th:only-of-type {\n",
       "        vertical-align: middle;\n",
       "    }\n",
       "\n",
       "    .dataframe tbody tr th {\n",
       "        vertical-align: top;\n",
       "    }\n",
       "\n",
       "    .dataframe thead th {\n",
       "        text-align: right;\n",
       "    }\n",
       "</style>\n",
       "<table border=\"1\" class=\"dataframe\">\n",
       "  <thead>\n",
       "    <tr style=\"text-align: right;\">\n",
       "      <th></th>\n",
       "      <th>InvoiceNo</th>\n",
       "      <th>StockCode</th>\n",
       "      <th>Description</th>\n",
       "      <th>Quantity</th>\n",
       "      <th>InvoiceDate</th>\n",
       "      <th>UnitPrice</th>\n",
       "      <th>CustomerID</th>\n",
       "      <th>Country</th>\n",
       "      <th>Time</th>\n",
       "      <th>Month</th>\n",
       "      <th>Day</th>\n",
       "      <th>Year</th>\n",
       "      <th>Total Amount</th>\n",
       "    </tr>\n",
       "  </thead>\n",
       "  <tbody>\n",
       "    <tr>\n",
       "      <th>0</th>\n",
       "      <td>536365</td>\n",
       "      <td>85123A</td>\n",
       "      <td>WHITE HANGING HEART T-LIGHT HOLDER</td>\n",
       "      <td>6</td>\n",
       "      <td>2010-12-01 08:26:00</td>\n",
       "      <td>2.55</td>\n",
       "      <td>17850.0</td>\n",
       "      <td>United Kingdom</td>\n",
       "      <td>08:26:00</td>\n",
       "      <td>December</td>\n",
       "      <td>Wednesday</td>\n",
       "      <td>2010</td>\n",
       "      <td>15.30</td>\n",
       "    </tr>\n",
       "    <tr>\n",
       "      <th>1</th>\n",
       "      <td>536365</td>\n",
       "      <td>71053</td>\n",
       "      <td>WHITE METAL LANTERN</td>\n",
       "      <td>6</td>\n",
       "      <td>2010-12-01 08:26:00</td>\n",
       "      <td>3.39</td>\n",
       "      <td>17850.0</td>\n",
       "      <td>United Kingdom</td>\n",
       "      <td>08:26:00</td>\n",
       "      <td>December</td>\n",
       "      <td>Wednesday</td>\n",
       "      <td>2010</td>\n",
       "      <td>20.34</td>\n",
       "    </tr>\n",
       "    <tr>\n",
       "      <th>2</th>\n",
       "      <td>536365</td>\n",
       "      <td>84406B</td>\n",
       "      <td>CREAM CUPID HEARTS COAT HANGER</td>\n",
       "      <td>8</td>\n",
       "      <td>2010-12-01 08:26:00</td>\n",
       "      <td>2.75</td>\n",
       "      <td>17850.0</td>\n",
       "      <td>United Kingdom</td>\n",
       "      <td>08:26:00</td>\n",
       "      <td>December</td>\n",
       "      <td>Wednesday</td>\n",
       "      <td>2010</td>\n",
       "      <td>22.00</td>\n",
       "    </tr>\n",
       "    <tr>\n",
       "      <th>3</th>\n",
       "      <td>536365</td>\n",
       "      <td>84029G</td>\n",
       "      <td>KNITTED UNION FLAG HOT WATER BOTTLE</td>\n",
       "      <td>6</td>\n",
       "      <td>2010-12-01 08:26:00</td>\n",
       "      <td>3.39</td>\n",
       "      <td>17850.0</td>\n",
       "      <td>United Kingdom</td>\n",
       "      <td>08:26:00</td>\n",
       "      <td>December</td>\n",
       "      <td>Wednesday</td>\n",
       "      <td>2010</td>\n",
       "      <td>20.34</td>\n",
       "    </tr>\n",
       "    <tr>\n",
       "      <th>4</th>\n",
       "      <td>536365</td>\n",
       "      <td>84029E</td>\n",
       "      <td>RED WOOLLY HOTTIE WHITE HEART.</td>\n",
       "      <td>6</td>\n",
       "      <td>2010-12-01 08:26:00</td>\n",
       "      <td>3.39</td>\n",
       "      <td>17850.0</td>\n",
       "      <td>United Kingdom</td>\n",
       "      <td>08:26:00</td>\n",
       "      <td>December</td>\n",
       "      <td>Wednesday</td>\n",
       "      <td>2010</td>\n",
       "      <td>20.34</td>\n",
       "    </tr>\n",
       "    <tr>\n",
       "      <th>5</th>\n",
       "      <td>536365</td>\n",
       "      <td>22752</td>\n",
       "      <td>SET 7 BABUSHKA NESTING BOXES</td>\n",
       "      <td>2</td>\n",
       "      <td>2010-12-01 08:26:00</td>\n",
       "      <td>7.65</td>\n",
       "      <td>17850.0</td>\n",
       "      <td>United Kingdom</td>\n",
       "      <td>08:26:00</td>\n",
       "      <td>December</td>\n",
       "      <td>Wednesday</td>\n",
       "      <td>2010</td>\n",
       "      <td>15.30</td>\n",
       "    </tr>\n",
       "    <tr>\n",
       "      <th>6</th>\n",
       "      <td>536365</td>\n",
       "      <td>21730</td>\n",
       "      <td>GLASS STAR FROSTED T-LIGHT HOLDER</td>\n",
       "      <td>6</td>\n",
       "      <td>2010-12-01 08:26:00</td>\n",
       "      <td>4.25</td>\n",
       "      <td>17850.0</td>\n",
       "      <td>United Kingdom</td>\n",
       "      <td>08:26:00</td>\n",
       "      <td>December</td>\n",
       "      <td>Wednesday</td>\n",
       "      <td>2010</td>\n",
       "      <td>25.50</td>\n",
       "    </tr>\n",
       "    <tr>\n",
       "      <th>7</th>\n",
       "      <td>536366</td>\n",
       "      <td>22633</td>\n",
       "      <td>HAND WARMER UNION JACK</td>\n",
       "      <td>6</td>\n",
       "      <td>2010-12-01 08:28:00</td>\n",
       "      <td>1.85</td>\n",
       "      <td>17850.0</td>\n",
       "      <td>United Kingdom</td>\n",
       "      <td>08:28:00</td>\n",
       "      <td>December</td>\n",
       "      <td>Wednesday</td>\n",
       "      <td>2010</td>\n",
       "      <td>11.10</td>\n",
       "    </tr>\n",
       "    <tr>\n",
       "      <th>8</th>\n",
       "      <td>536366</td>\n",
       "      <td>22632</td>\n",
       "      <td>HAND WARMER RED POLKA DOT</td>\n",
       "      <td>6</td>\n",
       "      <td>2010-12-01 08:28:00</td>\n",
       "      <td>1.85</td>\n",
       "      <td>17850.0</td>\n",
       "      <td>United Kingdom</td>\n",
       "      <td>08:28:00</td>\n",
       "      <td>December</td>\n",
       "      <td>Wednesday</td>\n",
       "      <td>2010</td>\n",
       "      <td>11.10</td>\n",
       "    </tr>\n",
       "    <tr>\n",
       "      <th>9</th>\n",
       "      <td>536367</td>\n",
       "      <td>84879</td>\n",
       "      <td>ASSORTED COLOUR BIRD ORNAMENT</td>\n",
       "      <td>32</td>\n",
       "      <td>2010-12-01 08:34:00</td>\n",
       "      <td>1.69</td>\n",
       "      <td>13047.0</td>\n",
       "      <td>United Kingdom</td>\n",
       "      <td>08:34:00</td>\n",
       "      <td>December</td>\n",
       "      <td>Wednesday</td>\n",
       "      <td>2010</td>\n",
       "      <td>54.08</td>\n",
       "    </tr>\n",
       "  </tbody>\n",
       "</table>\n",
       "</div>"
      ],
      "text/plain": [
       "   InvoiceNo StockCode                          Description  Quantity  \\\n",
       "0     536365    85123A   WHITE HANGING HEART T-LIGHT HOLDER         6   \n",
       "1     536365     71053                  WHITE METAL LANTERN         6   \n",
       "2     536365    84406B       CREAM CUPID HEARTS COAT HANGER         8   \n",
       "3     536365    84029G  KNITTED UNION FLAG HOT WATER BOTTLE         6   \n",
       "4     536365    84029E       RED WOOLLY HOTTIE WHITE HEART.         6   \n",
       "5     536365     22752         SET 7 BABUSHKA NESTING BOXES         2   \n",
       "6     536365     21730    GLASS STAR FROSTED T-LIGHT HOLDER         6   \n",
       "7     536366     22633               HAND WARMER UNION JACK         6   \n",
       "8     536366     22632            HAND WARMER RED POLKA DOT         6   \n",
       "9     536367     84879        ASSORTED COLOUR BIRD ORNAMENT        32   \n",
       "\n",
       "           InvoiceDate  UnitPrice  CustomerID         Country      Time  \\\n",
       "0  2010-12-01 08:26:00       2.55     17850.0  United Kingdom  08:26:00   \n",
       "1  2010-12-01 08:26:00       3.39     17850.0  United Kingdom  08:26:00   \n",
       "2  2010-12-01 08:26:00       2.75     17850.0  United Kingdom  08:26:00   \n",
       "3  2010-12-01 08:26:00       3.39     17850.0  United Kingdom  08:26:00   \n",
       "4  2010-12-01 08:26:00       3.39     17850.0  United Kingdom  08:26:00   \n",
       "5  2010-12-01 08:26:00       7.65     17850.0  United Kingdom  08:26:00   \n",
       "6  2010-12-01 08:26:00       4.25     17850.0  United Kingdom  08:26:00   \n",
       "7  2010-12-01 08:28:00       1.85     17850.0  United Kingdom  08:28:00   \n",
       "8  2010-12-01 08:28:00       1.85     17850.0  United Kingdom  08:28:00   \n",
       "9  2010-12-01 08:34:00       1.69     13047.0  United Kingdom  08:34:00   \n",
       "\n",
       "      Month        Day  Year  Total Amount  \n",
       "0  December  Wednesday  2010         15.30  \n",
       "1  December  Wednesday  2010         20.34  \n",
       "2  December  Wednesday  2010         22.00  \n",
       "3  December  Wednesday  2010         20.34  \n",
       "4  December  Wednesday  2010         20.34  \n",
       "5  December  Wednesday  2010         15.30  \n",
       "6  December  Wednesday  2010         25.50  \n",
       "7  December  Wednesday  2010         11.10  \n",
       "8  December  Wednesday  2010         11.10  \n",
       "9  December  Wednesday  2010         54.08  "
      ]
     },
     "execution_count": 2,
     "metadata": {},
     "output_type": "execute_result"
    }
   ],
   "source": [
    "# Load the dataset\n",
    "retail_metadata = pd.read_csv(\"retail_metadata.csv\")  \n",
    "retail_metadata.head(10)"
   ]
  },
  {
   "cell_type": "code",
   "execution_count": 3,
   "id": "8c36dbe4",
   "metadata": {},
   "outputs": [
    {
     "data": {
      "text/plain": [
       "Country\n",
       "United Kingdom          349227\n",
       "Germany                   9027\n",
       "France                    8327\n",
       "EIRE                      7228\n",
       "Spain                     2480\n",
       "Netherlands               2363\n",
       "Belgium                   2031\n",
       "Switzerland               1842\n",
       "Portugal                  1453\n",
       "Australia                 1184\n",
       "Norway                    1072\n",
       "Italy                      758\n",
       "Channel Islands            747\n",
       "Finland                    685\n",
       "Cyprus                     603\n",
       "Sweden                     450\n",
       "Austria                    398\n",
       "Denmark                    380\n",
       "Poland                     330\n",
       "Japan                      321\n",
       "Israel                     245\n",
       "Unspecified                241\n",
       "Singapore                  222\n",
       "Iceland                    182\n",
       "USA                        179\n",
       "Canada                     151\n",
       "Greece                     145\n",
       "Malta                      112\n",
       "United Arab Emirates        68\n",
       "European Community          60\n",
       "RSA                         58\n",
       "Lebanon                     45\n",
       "Lithuania                   35\n",
       "Brazil                      32\n",
       "Czech Republic              25\n",
       "Bahrain                     17\n",
       "Saudi Arabia                 9\n",
       "Name: count, dtype: int64"
      ]
     },
     "execution_count": 3,
     "metadata": {},
     "output_type": "execute_result"
    }
   ],
   "source": [
    "retail_metadata[\"Country\"].value_counts()"
   ]
  },
  {
   "cell_type": "code",
   "execution_count": 4,
   "id": "8b1e8c8d",
   "metadata": {},
   "outputs": [
    {
     "data": {
      "text/html": [
       "<div>\n",
       "<style scoped>\n",
       "    .dataframe tbody tr th:only-of-type {\n",
       "        vertical-align: middle;\n",
       "    }\n",
       "\n",
       "    .dataframe tbody tr th {\n",
       "        vertical-align: top;\n",
       "    }\n",
       "\n",
       "    .dataframe thead th {\n",
       "        text-align: right;\n",
       "    }\n",
       "</style>\n",
       "<table border=\"1\" class=\"dataframe\">\n",
       "  <thead>\n",
       "    <tr style=\"text-align: right;\">\n",
       "      <th></th>\n",
       "      <th>InvoiceNo</th>\n",
       "      <th>StockCode</th>\n",
       "      <th>Description</th>\n",
       "      <th>Quantity</th>\n",
       "      <th>InvoiceDate</th>\n",
       "      <th>UnitPrice</th>\n",
       "      <th>CustomerID</th>\n",
       "      <th>Country</th>\n",
       "      <th>Time</th>\n",
       "      <th>Month</th>\n",
       "      <th>Day</th>\n",
       "      <th>Year</th>\n",
       "      <th>Total Amount</th>\n",
       "    </tr>\n",
       "  </thead>\n",
       "  <tbody>\n",
       "    <tr>\n",
       "      <th>195</th>\n",
       "      <td>536389</td>\n",
       "      <td>22941</td>\n",
       "      <td>CHRISTMAS LIGHTS 10 REINDEER</td>\n",
       "      <td>6</td>\n",
       "      <td>2010-12-01 10:03:00</td>\n",
       "      <td>8.50</td>\n",
       "      <td>12431.0</td>\n",
       "      <td>Australia</td>\n",
       "      <td>10:03:00</td>\n",
       "      <td>December</td>\n",
       "      <td>Wednesday</td>\n",
       "      <td>2010</td>\n",
       "      <td>51.00</td>\n",
       "    </tr>\n",
       "    <tr>\n",
       "      <th>196</th>\n",
       "      <td>536389</td>\n",
       "      <td>21622</td>\n",
       "      <td>VINTAGE UNION JACK CUSHION COVER</td>\n",
       "      <td>8</td>\n",
       "      <td>2010-12-01 10:03:00</td>\n",
       "      <td>4.95</td>\n",
       "      <td>12431.0</td>\n",
       "      <td>Australia</td>\n",
       "      <td>10:03:00</td>\n",
       "      <td>December</td>\n",
       "      <td>Wednesday</td>\n",
       "      <td>2010</td>\n",
       "      <td>39.60</td>\n",
       "    </tr>\n",
       "    <tr>\n",
       "      <th>197</th>\n",
       "      <td>536389</td>\n",
       "      <td>21791</td>\n",
       "      <td>VINTAGE HEADS AND TAILS CARD GAME</td>\n",
       "      <td>12</td>\n",
       "      <td>2010-12-01 10:03:00</td>\n",
       "      <td>1.25</td>\n",
       "      <td>12431.0</td>\n",
       "      <td>Australia</td>\n",
       "      <td>10:03:00</td>\n",
       "      <td>December</td>\n",
       "      <td>Wednesday</td>\n",
       "      <td>2010</td>\n",
       "      <td>15.00</td>\n",
       "    </tr>\n",
       "    <tr>\n",
       "      <th>198</th>\n",
       "      <td>536389</td>\n",
       "      <td>35004C</td>\n",
       "      <td>SET OF 3 COLOURED  FLYING DUCKS</td>\n",
       "      <td>6</td>\n",
       "      <td>2010-12-01 10:03:00</td>\n",
       "      <td>5.45</td>\n",
       "      <td>12431.0</td>\n",
       "      <td>Australia</td>\n",
       "      <td>10:03:00</td>\n",
       "      <td>December</td>\n",
       "      <td>Wednesday</td>\n",
       "      <td>2010</td>\n",
       "      <td>32.70</td>\n",
       "    </tr>\n",
       "    <tr>\n",
       "      <th>199</th>\n",
       "      <td>536389</td>\n",
       "      <td>35004G</td>\n",
       "      <td>SET OF 3 GOLD FLYING DUCKS</td>\n",
       "      <td>4</td>\n",
       "      <td>2010-12-01 10:03:00</td>\n",
       "      <td>6.35</td>\n",
       "      <td>12431.0</td>\n",
       "      <td>Australia</td>\n",
       "      <td>10:03:00</td>\n",
       "      <td>December</td>\n",
       "      <td>Wednesday</td>\n",
       "      <td>2010</td>\n",
       "      <td>25.40</td>\n",
       "    </tr>\n",
       "    <tr>\n",
       "      <th>...</th>\n",
       "      <td>...</td>\n",
       "      <td>...</td>\n",
       "      <td>...</td>\n",
       "      <td>...</td>\n",
       "      <td>...</td>\n",
       "      <td>...</td>\n",
       "      <td>...</td>\n",
       "      <td>...</td>\n",
       "      <td>...</td>\n",
       "      <td>...</td>\n",
       "      <td>...</td>\n",
       "      <td>...</td>\n",
       "      <td>...</td>\n",
       "    </tr>\n",
       "    <tr>\n",
       "      <th>362409</th>\n",
       "      <td>578459</td>\n",
       "      <td>22086</td>\n",
       "      <td>PAPER CHAIN KIT 50'S CHRISTMAS</td>\n",
       "      <td>20</td>\n",
       "      <td>2011-11-24 12:30:00</td>\n",
       "      <td>2.95</td>\n",
       "      <td>12388.0</td>\n",
       "      <td>Australia</td>\n",
       "      <td>12:30:00</td>\n",
       "      <td>November</td>\n",
       "      <td>Thursday</td>\n",
       "      <td>2011</td>\n",
       "      <td>59.00</td>\n",
       "    </tr>\n",
       "    <tr>\n",
       "      <th>362410</th>\n",
       "      <td>578459</td>\n",
       "      <td>22340</td>\n",
       "      <td>NOEL GARLAND PAINTED ZINC</td>\n",
       "      <td>24</td>\n",
       "      <td>2011-11-24 12:30:00</td>\n",
       "      <td>0.39</td>\n",
       "      <td>12388.0</td>\n",
       "      <td>Australia</td>\n",
       "      <td>12:30:00</td>\n",
       "      <td>November</td>\n",
       "      <td>Thursday</td>\n",
       "      <td>2011</td>\n",
       "      <td>9.36</td>\n",
       "    </tr>\n",
       "    <tr>\n",
       "      <th>362411</th>\n",
       "      <td>578459</td>\n",
       "      <td>22576</td>\n",
       "      <td>SWALLOW WOODEN CHRISTMAS DECORATION</td>\n",
       "      <td>20</td>\n",
       "      <td>2011-11-24 12:30:00</td>\n",
       "      <td>0.85</td>\n",
       "      <td>12388.0</td>\n",
       "      <td>Australia</td>\n",
       "      <td>12:30:00</td>\n",
       "      <td>November</td>\n",
       "      <td>Thursday</td>\n",
       "      <td>2011</td>\n",
       "      <td>17.00</td>\n",
       "    </tr>\n",
       "    <tr>\n",
       "      <th>362412</th>\n",
       "      <td>578459</td>\n",
       "      <td>22580</td>\n",
       "      <td>ADVENT CALENDAR GINGHAM SACK</td>\n",
       "      <td>12</td>\n",
       "      <td>2011-11-24 12:30:00</td>\n",
       "      <td>5.95</td>\n",
       "      <td>12388.0</td>\n",
       "      <td>Australia</td>\n",
       "      <td>12:30:00</td>\n",
       "      <td>November</td>\n",
       "      <td>Thursday</td>\n",
       "      <td>2011</td>\n",
       "      <td>71.40</td>\n",
       "    </tr>\n",
       "    <tr>\n",
       "      <th>362413</th>\n",
       "      <td>578459</td>\n",
       "      <td>22669</td>\n",
       "      <td>RED BABY BUNTING</td>\n",
       "      <td>12</td>\n",
       "      <td>2011-11-24 12:30:00</td>\n",
       "      <td>2.95</td>\n",
       "      <td>12388.0</td>\n",
       "      <td>Australia</td>\n",
       "      <td>12:30:00</td>\n",
       "      <td>November</td>\n",
       "      <td>Thursday</td>\n",
       "      <td>2011</td>\n",
       "      <td>35.40</td>\n",
       "    </tr>\n",
       "  </tbody>\n",
       "</table>\n",
       "<p>1184 rows × 13 columns</p>\n",
       "</div>"
      ],
      "text/plain": [
       "        InvoiceNo StockCode                          Description  Quantity  \\\n",
       "195        536389     22941         CHRISTMAS LIGHTS 10 REINDEER         6   \n",
       "196        536389     21622     VINTAGE UNION JACK CUSHION COVER         8   \n",
       "197        536389     21791   VINTAGE HEADS AND TAILS CARD GAME         12   \n",
       "198        536389    35004C      SET OF 3 COLOURED  FLYING DUCKS         6   \n",
       "199        536389    35004G           SET OF 3 GOLD FLYING DUCKS         4   \n",
       "...           ...       ...                                  ...       ...   \n",
       "362409     578459     22086      PAPER CHAIN KIT 50'S CHRISTMAS         20   \n",
       "362410     578459     22340           NOEL GARLAND PAINTED ZINC         24   \n",
       "362411     578459     22576  SWALLOW WOODEN CHRISTMAS DECORATION        20   \n",
       "362412     578459     22580         ADVENT CALENDAR GINGHAM SACK        12   \n",
       "362413     578459     22669                    RED BABY BUNTING         12   \n",
       "\n",
       "                InvoiceDate  UnitPrice  CustomerID    Country      Time  \\\n",
       "195     2010-12-01 10:03:00       8.50     12431.0  Australia  10:03:00   \n",
       "196     2010-12-01 10:03:00       4.95     12431.0  Australia  10:03:00   \n",
       "197     2010-12-01 10:03:00       1.25     12431.0  Australia  10:03:00   \n",
       "198     2010-12-01 10:03:00       5.45     12431.0  Australia  10:03:00   \n",
       "199     2010-12-01 10:03:00       6.35     12431.0  Australia  10:03:00   \n",
       "...                     ...        ...         ...        ...       ...   \n",
       "362409  2011-11-24 12:30:00       2.95     12388.0  Australia  12:30:00   \n",
       "362410  2011-11-24 12:30:00       0.39     12388.0  Australia  12:30:00   \n",
       "362411  2011-11-24 12:30:00       0.85     12388.0  Australia  12:30:00   \n",
       "362412  2011-11-24 12:30:00       5.95     12388.0  Australia  12:30:00   \n",
       "362413  2011-11-24 12:30:00       2.95     12388.0  Australia  12:30:00   \n",
       "\n",
       "           Month        Day  Year  Total Amount  \n",
       "195     December  Wednesday  2010         51.00  \n",
       "196     December  Wednesday  2010         39.60  \n",
       "197     December  Wednesday  2010         15.00  \n",
       "198     December  Wednesday  2010         32.70  \n",
       "199     December  Wednesday  2010         25.40  \n",
       "...          ...        ...   ...           ...  \n",
       "362409  November   Thursday  2011         59.00  \n",
       "362410  November   Thursday  2011          9.36  \n",
       "362411  November   Thursday  2011         17.00  \n",
       "362412  November   Thursday  2011         71.40  \n",
       "362413  November   Thursday  2011         35.40  \n",
       "\n",
       "[1184 rows x 13 columns]"
      ]
     },
     "execution_count": 4,
     "metadata": {},
     "output_type": "execute_result"
    }
   ],
   "source": [
    "retail_metadata[retail_metadata[\"Country\"] == \"Australia\"]"
   ]
  },
  {
   "cell_type": "code",
   "execution_count": 5,
   "id": "274fe214",
   "metadata": {},
   "outputs": [
    {
     "data": {
      "text/plain": [
       "(392732, 13)"
      ]
     },
     "execution_count": 5,
     "metadata": {},
     "output_type": "execute_result"
    }
   ],
   "source": [
    "retail_metadata.shape"
   ]
  },
  {
   "cell_type": "code",
   "execution_count": 6,
   "id": "c3b8eae7",
   "metadata": {},
   "outputs": [
    {
     "name": "stdout",
     "output_type": "stream",
     "text": [
      "<class 'pandas.core.frame.DataFrame'>\n",
      "RangeIndex: 392732 entries, 0 to 392731\n",
      "Data columns (total 13 columns):\n",
      " #   Column        Non-Null Count   Dtype  \n",
      "---  ------        --------------   -----  \n",
      " 0   InvoiceNo     392732 non-null  int64  \n",
      " 1   StockCode     392732 non-null  object \n",
      " 2   Description   392732 non-null  object \n",
      " 3   Quantity      392732 non-null  int64  \n",
      " 4   InvoiceDate   392732 non-null  object \n",
      " 5   UnitPrice     392732 non-null  float64\n",
      " 6   CustomerID    392732 non-null  float64\n",
      " 7   Country       392732 non-null  object \n",
      " 8   Time          392732 non-null  object \n",
      " 9   Month         392732 non-null  object \n",
      " 10  Day           392732 non-null  object \n",
      " 11  Year          392732 non-null  int64  \n",
      " 12  Total Amount  392732 non-null  float64\n",
      "dtypes: float64(3), int64(3), object(7)\n",
      "memory usage: 39.0+ MB\n"
     ]
    }
   ],
   "source": [
    "retail_metadata.info()"
   ]
  },
  {
   "cell_type": "code",
   "execution_count": 7,
   "id": "e9452cdb",
   "metadata": {},
   "outputs": [
    {
     "data": {
      "text/html": [
       "<div>\n",
       "<style scoped>\n",
       "    .dataframe tbody tr th:only-of-type {\n",
       "        vertical-align: middle;\n",
       "    }\n",
       "\n",
       "    .dataframe tbody tr th {\n",
       "        vertical-align: top;\n",
       "    }\n",
       "\n",
       "    .dataframe thead th {\n",
       "        text-align: right;\n",
       "    }\n",
       "</style>\n",
       "<table border=\"1\" class=\"dataframe\">\n",
       "  <thead>\n",
       "    <tr style=\"text-align: right;\">\n",
       "      <th></th>\n",
       "      <th>Country</th>\n",
       "      <th>StockCode</th>\n",
       "      <th>Quantity</th>\n",
       "      <th>UnitPrice</th>\n",
       "      <th>Total Amount</th>\n",
       "    </tr>\n",
       "  </thead>\n",
       "  <tbody>\n",
       "    <tr>\n",
       "      <th>0</th>\n",
       "      <td>Australia</td>\n",
       "      <td>15036</td>\n",
       "      <td>600</td>\n",
       "      <td>0.72</td>\n",
       "      <td>432.00</td>\n",
       "    </tr>\n",
       "    <tr>\n",
       "      <th>1</th>\n",
       "      <td>Australia</td>\n",
       "      <td>15056BL</td>\n",
       "      <td>3</td>\n",
       "      <td>5.95</td>\n",
       "      <td>17.85</td>\n",
       "    </tr>\n",
       "    <tr>\n",
       "      <th>2</th>\n",
       "      <td>Australia</td>\n",
       "      <td>16161P</td>\n",
       "      <td>400</td>\n",
       "      <td>0.34</td>\n",
       "      <td>136.00</td>\n",
       "    </tr>\n",
       "    <tr>\n",
       "      <th>3</th>\n",
       "      <td>Australia</td>\n",
       "      <td>16169E</td>\n",
       "      <td>25</td>\n",
       "      <td>0.42</td>\n",
       "      <td>10.50</td>\n",
       "    </tr>\n",
       "    <tr>\n",
       "      <th>4</th>\n",
       "      <td>Australia</td>\n",
       "      <td>20665</td>\n",
       "      <td>6</td>\n",
       "      <td>2.95</td>\n",
       "      <td>17.70</td>\n",
       "    </tr>\n",
       "    <tr>\n",
       "      <th>...</th>\n",
       "      <td>...</td>\n",
       "      <td>...</td>\n",
       "      <td>...</td>\n",
       "      <td>...</td>\n",
       "      <td>...</td>\n",
       "    </tr>\n",
       "    <tr>\n",
       "      <th>18932</th>\n",
       "      <td>Unspecified</td>\n",
       "      <td>85179C</td>\n",
       "      <td>1</td>\n",
       "      <td>4.65</td>\n",
       "      <td>4.65</td>\n",
       "    </tr>\n",
       "    <tr>\n",
       "      <th>18933</th>\n",
       "      <td>Unspecified</td>\n",
       "      <td>85180A</td>\n",
       "      <td>2</td>\n",
       "      <td>4.65</td>\n",
       "      <td>9.30</td>\n",
       "    </tr>\n",
       "    <tr>\n",
       "      <th>18934</th>\n",
       "      <td>Unspecified</td>\n",
       "      <td>85180B</td>\n",
       "      <td>1</td>\n",
       "      <td>4.65</td>\n",
       "      <td>4.65</td>\n",
       "    </tr>\n",
       "    <tr>\n",
       "      <th>18935</th>\n",
       "      <td>Unspecified</td>\n",
       "      <td>85212</td>\n",
       "      <td>12</td>\n",
       "      <td>0.29</td>\n",
       "      <td>3.48</td>\n",
       "    </tr>\n",
       "    <tr>\n",
       "      <th>18936</th>\n",
       "      <td>Unspecified</td>\n",
       "      <td>85213</td>\n",
       "      <td>12</td>\n",
       "      <td>0.29</td>\n",
       "      <td>3.48</td>\n",
       "    </tr>\n",
       "  </tbody>\n",
       "</table>\n",
       "<p>18937 rows × 5 columns</p>\n",
       "</div>"
      ],
      "text/plain": [
       "           Country StockCode  Quantity  UnitPrice  Total Amount\n",
       "0        Australia     15036       600       0.72        432.00\n",
       "1        Australia   15056BL         3       5.95         17.85\n",
       "2        Australia    16161P       400       0.34        136.00\n",
       "3        Australia    16169E        25       0.42         10.50\n",
       "4        Australia     20665         6       2.95         17.70\n",
       "...            ...       ...       ...        ...           ...\n",
       "18932  Unspecified    85179C         1       4.65          4.65\n",
       "18933  Unspecified    85180A         2       4.65          9.30\n",
       "18934  Unspecified    85180B         1       4.65          4.65\n",
       "18935  Unspecified     85212        12       0.29          3.48\n",
       "18936  Unspecified     85213        12       0.29          3.48\n",
       "\n",
       "[18937 rows x 5 columns]"
      ]
     },
     "execution_count": 7,
     "metadata": {},
     "output_type": "execute_result"
    }
   ],
   "source": [
    "retail_stock_sales = retail_metadata.groupby(['Country','StockCode'])[['Quantity','UnitPrice','Total Amount']].sum().reset_index()\n",
    "retail_stock_sales"
   ]
  },
  {
   "cell_type": "code",
   "execution_count": 8,
   "id": "4b17b626",
   "metadata": {},
   "outputs": [],
   "source": [
    "retail_stock_sales.to_csv('retail_stock_sales.csv',index=False)"
   ]
  },
  {
   "cell_type": "code",
   "execution_count": 9,
   "id": "c4ca5134",
   "metadata": {},
   "outputs": [
    {
     "data": {
      "text/plain": [
       "Country      Unspecified\n",
       "StockCode           POST\n",
       "Quantity           80995\n",
       "dtype: object"
      ]
     },
     "execution_count": 9,
     "metadata": {},
     "output_type": "execute_result"
    }
   ],
   "source": [
    "retail_stock_max = retail_stock_sales.groupby(['Country','StockCode'])['Quantity'].sum().reset_index()\n",
    "retail_stock_max.max()"
   ]
  },
  {
   "cell_type": "code",
   "execution_count": 10,
   "id": "fc541cd9",
   "metadata": {},
   "outputs": [
    {
     "data": {
      "text/plain": [
       "Country      Australia\n",
       "StockCode        10002\n",
       "UnitPrice          0.0\n",
       "dtype: object"
      ]
     },
     "execution_count": 10,
     "metadata": {},
     "output_type": "execute_result"
    }
   ],
   "source": [
    "retail_stock_min = retail_stock_sales.groupby(['Country','StockCode'])['UnitPrice'].sum().reset_index()\n",
    "retail_stock_min.min()"
   ]
  },
  {
   "cell_type": "code",
   "execution_count": 11,
   "id": "750fea50",
   "metadata": {},
   "outputs": [
    {
     "data": {
      "text/plain": [
       "array(['15036', '15056BL', '16161P', ..., '85180B', '85212', '85213'],\n",
       "      dtype=object)"
      ]
     },
     "execution_count": 11,
     "metadata": {},
     "output_type": "execute_result"
    }
   ],
   "source": [
    "retail_stock_sales['StockCode'].values"
   ]
  },
  {
   "cell_type": "code",
   "execution_count": 12,
   "id": "e95a87f3",
   "metadata": {},
   "outputs": [
    {
     "data": {
      "text/html": [
       "<div>\n",
       "<style scoped>\n",
       "    .dataframe tbody tr th:only-of-type {\n",
       "        vertical-align: middle;\n",
       "    }\n",
       "\n",
       "    .dataframe tbody tr th {\n",
       "        vertical-align: top;\n",
       "    }\n",
       "\n",
       "    .dataframe thead th {\n",
       "        text-align: right;\n",
       "    }\n",
       "</style>\n",
       "<table border=\"1\" class=\"dataframe\">\n",
       "  <thead>\n",
       "    <tr style=\"text-align: right;\">\n",
       "      <th></th>\n",
       "      <th>Country</th>\n",
       "      <th>Quantity</th>\n",
       "      <th>UnitPrice</th>\n",
       "      <th>Total Amount</th>\n",
       "    </tr>\n",
       "  </thead>\n",
       "  <tbody>\n",
       "    <tr>\n",
       "      <th>0</th>\n",
       "      <td>Australia</td>\n",
       "      <td>600</td>\n",
       "      <td>0.72</td>\n",
       "      <td>432.00</td>\n",
       "    </tr>\n",
       "    <tr>\n",
       "      <th>1</th>\n",
       "      <td>Denmark</td>\n",
       "      <td>12</td>\n",
       "      <td>0.83</td>\n",
       "      <td>9.96</td>\n",
       "    </tr>\n",
       "    <tr>\n",
       "      <th>2</th>\n",
       "      <td>EIRE</td>\n",
       "      <td>48</td>\n",
       "      <td>2.49</td>\n",
       "      <td>39.84</td>\n",
       "    </tr>\n",
       "    <tr>\n",
       "      <th>3</th>\n",
       "      <td>France</td>\n",
       "      <td>60</td>\n",
       "      <td>2.41</td>\n",
       "      <td>48.84</td>\n",
       "    </tr>\n",
       "    <tr>\n",
       "      <th>4</th>\n",
       "      <td>Germany</td>\n",
       "      <td>1164</td>\n",
       "      <td>7.13</td>\n",
       "      <td>853.32</td>\n",
       "    </tr>\n",
       "    <tr>\n",
       "      <th>5</th>\n",
       "      <td>Italy</td>\n",
       "      <td>12</td>\n",
       "      <td>0.75</td>\n",
       "      <td>9.00</td>\n",
       "    </tr>\n",
       "    <tr>\n",
       "      <th>6</th>\n",
       "      <td>Netherlands</td>\n",
       "      <td>12</td>\n",
       "      <td>0.83</td>\n",
       "      <td>9.96</td>\n",
       "    </tr>\n",
       "    <tr>\n",
       "      <th>7</th>\n",
       "      <td>Norway</td>\n",
       "      <td>48</td>\n",
       "      <td>0.83</td>\n",
       "      <td>39.84</td>\n",
       "    </tr>\n",
       "    <tr>\n",
       "      <th>8</th>\n",
       "      <td>Sweden</td>\n",
       "      <td>804</td>\n",
       "      <td>2.30</td>\n",
       "      <td>587.16</td>\n",
       "    </tr>\n",
       "    <tr>\n",
       "      <th>9</th>\n",
       "      <td>United Kingdom</td>\n",
       "      <td>19116</td>\n",
       "      <td>243.34</td>\n",
       "      <td>14014.52</td>\n",
       "    </tr>\n",
       "  </tbody>\n",
       "</table>\n",
       "</div>"
      ],
      "text/plain": [
       "          Country  Quantity  UnitPrice  Total Amount\n",
       "0       Australia       600       0.72        432.00\n",
       "1         Denmark        12       0.83          9.96\n",
       "2            EIRE        48       2.49         39.84\n",
       "3          France        60       2.41         48.84\n",
       "4         Germany      1164       7.13        853.32\n",
       "5           Italy        12       0.75          9.00\n",
       "6     Netherlands        12       0.83          9.96\n",
       "7          Norway        48       0.83         39.84\n",
       "8          Sweden       804       2.30        587.16\n",
       "9  United Kingdom     19116     243.34      14014.52"
      ]
     },
     "execution_count": 12,
     "metadata": {},
     "output_type": "execute_result"
    }
   ],
   "source": [
    "retail_metadata[retail_metadata['StockCode'] == \"15036\"].groupby('Country')[['Quantity','UnitPrice','Total Amount']].sum().reset_index()"
   ]
  },
  {
   "cell_type": "code",
   "execution_count": 13,
   "id": "4cafa200",
   "metadata": {},
   "outputs": [
    {
     "data": {
      "text/plain": [
       "array(['Australia', 'Austria', 'Bahrain', 'Belgium', 'Brazil', 'Canada',\n",
       "       'Channel Islands', 'Cyprus', 'Czech Republic', 'Denmark', 'EIRE',\n",
       "       'European Community', 'Finland', 'France', 'Germany', 'Greece',\n",
       "       'Iceland', 'Israel', 'Italy', 'Japan', 'Lebanon', 'Lithuania',\n",
       "       'Malta', 'Netherlands', 'Norway', 'Poland', 'Portugal', 'RSA',\n",
       "       'Saudi Arabia', 'Singapore', 'Spain', 'Sweden', 'Switzerland',\n",
       "       'USA', 'United Arab Emirates', 'United Kingdom', 'Unspecified'],\n",
       "      dtype=object)"
      ]
     },
     "execution_count": 13,
     "metadata": {},
     "output_type": "execute_result"
    }
   ],
   "source": [
    "retail_stock_sales['Country'].unique()"
   ]
  },
  {
   "cell_type": "code",
   "execution_count": 14,
   "id": "d5a67c8b",
   "metadata": {},
   "outputs": [
    {
     "data": {
      "text/plain": [
       "array([ 0,  1,  2,  3,  4,  5,  6,  7,  8,  9, 10, 11, 12, 13, 14, 15, 16,\n",
       "       17, 18, 19, 20, 21, 22, 23, 24, 25, 26, 27, 28, 29, 30, 31, 32, 33,\n",
       "       34, 35, 36])"
      ]
     },
     "execution_count": 14,
     "metadata": {},
     "output_type": "execute_result"
    }
   ],
   "source": [
    "encoder = LabelEncoder()\n",
    "encoded_retail_stock = retail_stock_sales.copy()\n",
    "encoded_retail_stock['Country'] = encoder.fit_transform(encoded_retail_stock['Country'])\n",
    "pd.unique(encoded_retail_stock['Country'])\n"
   ]
  },
  {
   "cell_type": "code",
   "execution_count": 15,
   "id": "d364f199",
   "metadata": {},
   "outputs": [
    {
     "data": {
      "text/plain": [
       "StockCode\n",
       "22423     29\n",
       "22960     25\n",
       "22961     25\n",
       "23240     24\n",
       "POST      23\n",
       "          ..\n",
       "35809B     1\n",
       "35816P     1\n",
       "35817P     1\n",
       "35818B     1\n",
       "PADS       1\n",
       "Name: count, Length: 3665, dtype: int64"
      ]
     },
     "execution_count": 15,
     "metadata": {},
     "output_type": "execute_result"
    }
   ],
   "source": [
    "encoded_retail_stock['StockCode'].value_counts()"
   ]
  },
  {
   "cell_type": "code",
   "execution_count": 16,
   "id": "af7396d9",
   "metadata": {},
   "outputs": [
    {
     "data": {
      "text/plain": [
       "'23344'"
      ]
     },
     "execution_count": 16,
     "metadata": {},
     "output_type": "execute_result"
    }
   ],
   "source": [
    "encoded_retail_stock['StockCode'].values[1531]"
   ]
  },
  {
   "cell_type": "code",
   "execution_count": 17,
   "id": "92cea1db",
   "metadata": {},
   "outputs": [
    {
     "data": {
      "text/plain": [
       "StockCode\n",
       "1288    29\n",
       "1801    25\n",
       "1802    25\n",
       "2070    24\n",
       "3664    23\n",
       "        ..\n",
       "2442     1\n",
       "2446     1\n",
       "2447     1\n",
       "2448     1\n",
       "3663     1\n",
       "Name: count, Length: 3665, dtype: int64"
      ]
     },
     "execution_count": 17,
     "metadata": {},
     "output_type": "execute_result"
    }
   ],
   "source": [
    "encoder = LabelEncoder()\n",
    "encoded_retail_stock['StockCode'] = encoder.fit_transform(encoded_retail_stock['StockCode'])\n",
    "encoded_retail_stock['StockCode'].value_counts()"
   ]
  },
  {
   "cell_type": "code",
   "execution_count": 18,
   "id": "bea4a6a8",
   "metadata": {},
   "outputs": [
    {
     "data": {
      "text/html": [
       "<div>\n",
       "<style scoped>\n",
       "    .dataframe tbody tr th:only-of-type {\n",
       "        vertical-align: middle;\n",
       "    }\n",
       "\n",
       "    .dataframe tbody tr th {\n",
       "        vertical-align: top;\n",
       "    }\n",
       "\n",
       "    .dataframe thead th {\n",
       "        text-align: right;\n",
       "    }\n",
       "</style>\n",
       "<table border=\"1\" class=\"dataframe\">\n",
       "  <thead>\n",
       "    <tr style=\"text-align: right;\">\n",
       "      <th></th>\n",
       "      <th>Country</th>\n",
       "      <th>StockCode</th>\n",
       "      <th>Quantity</th>\n",
       "      <th>UnitPrice</th>\n",
       "      <th>Total Amount</th>\n",
       "    </tr>\n",
       "  </thead>\n",
       "  <tbody>\n",
       "    <tr>\n",
       "      <th>Country</th>\n",
       "      <td>1.000000</td>\n",
       "      <td>0.067959</td>\n",
       "      <td>0.189456</td>\n",
       "      <td>0.186493</td>\n",
       "      <td>0.177557</td>\n",
       "    </tr>\n",
       "    <tr>\n",
       "      <th>StockCode</th>\n",
       "      <td>0.067959</td>\n",
       "      <td>1.000000</td>\n",
       "      <td>-0.009250</td>\n",
       "      <td>0.034781</td>\n",
       "      <td>0.012405</td>\n",
       "    </tr>\n",
       "    <tr>\n",
       "      <th>Quantity</th>\n",
       "      <td>0.189456</td>\n",
       "      <td>-0.009250</td>\n",
       "      <td>1.000000</td>\n",
       "      <td>0.278587</td>\n",
       "      <td>0.781681</td>\n",
       "    </tr>\n",
       "    <tr>\n",
       "      <th>UnitPrice</th>\n",
       "      <td>0.186493</td>\n",
       "      <td>0.034781</td>\n",
       "      <td>0.278587</td>\n",
       "      <td>1.000000</td>\n",
       "      <td>0.618024</td>\n",
       "    </tr>\n",
       "    <tr>\n",
       "      <th>Total Amount</th>\n",
       "      <td>0.177557</td>\n",
       "      <td>0.012405</td>\n",
       "      <td>0.781681</td>\n",
       "      <td>0.618024</td>\n",
       "      <td>1.000000</td>\n",
       "    </tr>\n",
       "  </tbody>\n",
       "</table>\n",
       "</div>"
      ],
      "text/plain": [
       "               Country  StockCode  Quantity  UnitPrice  Total Amount\n",
       "Country       1.000000   0.067959  0.189456   0.186493      0.177557\n",
       "StockCode     0.067959   1.000000 -0.009250   0.034781      0.012405\n",
       "Quantity      0.189456  -0.009250  1.000000   0.278587      0.781681\n",
       "UnitPrice     0.186493   0.034781  0.278587   1.000000      0.618024\n",
       "Total Amount  0.177557   0.012405  0.781681   0.618024      1.000000"
      ]
     },
     "execution_count": 18,
     "metadata": {},
     "output_type": "execute_result"
    }
   ],
   "source": [
    "encoded_retail_stock.corr()"
   ]
  },
  {
   "cell_type": "code",
   "execution_count": 19,
   "id": "3571cd07",
   "metadata": {},
   "outputs": [],
   "source": [
    "# Model Training\n",
    "X = encoded_retail_stock.drop(columns=[\"Total Amount\"])\n",
    "y = encoded_retail_stock['Total Amount']"
   ]
  },
  {
   "cell_type": "code",
   "execution_count": 20,
   "id": "ade18062",
   "metadata": {},
   "outputs": [
    {
     "data": {
      "text/html": [
       "<div>\n",
       "<style scoped>\n",
       "    .dataframe tbody tr th:only-of-type {\n",
       "        vertical-align: middle;\n",
       "    }\n",
       "\n",
       "    .dataframe tbody tr th {\n",
       "        vertical-align: top;\n",
       "    }\n",
       "\n",
       "    .dataframe thead th {\n",
       "        text-align: right;\n",
       "    }\n",
       "</style>\n",
       "<table border=\"1\" class=\"dataframe\">\n",
       "  <thead>\n",
       "    <tr style=\"text-align: right;\">\n",
       "      <th></th>\n",
       "      <th>Country</th>\n",
       "      <th>StockCode</th>\n",
       "      <th>Quantity</th>\n",
       "      <th>UnitPrice</th>\n",
       "    </tr>\n",
       "  </thead>\n",
       "  <tbody>\n",
       "    <tr>\n",
       "      <th>0</th>\n",
       "      <td>0</td>\n",
       "      <td>12</td>\n",
       "      <td>600</td>\n",
       "      <td>0.72</td>\n",
       "    </tr>\n",
       "    <tr>\n",
       "      <th>1</th>\n",
       "      <td>0</td>\n",
       "      <td>18</td>\n",
       "      <td>3</td>\n",
       "      <td>5.95</td>\n",
       "    </tr>\n",
       "    <tr>\n",
       "      <th>2</th>\n",
       "      <td>0</td>\n",
       "      <td>46</td>\n",
       "      <td>400</td>\n",
       "      <td>0.34</td>\n",
       "    </tr>\n",
       "    <tr>\n",
       "      <th>3</th>\n",
       "      <td>0</td>\n",
       "      <td>51</td>\n",
       "      <td>25</td>\n",
       "      <td>0.42</td>\n",
       "    </tr>\n",
       "    <tr>\n",
       "      <th>4</th>\n",
       "      <td>0</td>\n",
       "      <td>130</td>\n",
       "      <td>6</td>\n",
       "      <td>2.95</td>\n",
       "    </tr>\n",
       "    <tr>\n",
       "      <th>...</th>\n",
       "      <td>...</td>\n",
       "      <td>...</td>\n",
       "      <td>...</td>\n",
       "      <td>...</td>\n",
       "    </tr>\n",
       "    <tr>\n",
       "      <th>18932</th>\n",
       "      <td>36</td>\n",
       "      <td>3288</td>\n",
       "      <td>1</td>\n",
       "      <td>4.65</td>\n",
       "    </tr>\n",
       "    <tr>\n",
       "      <th>18933</th>\n",
       "      <td>36</td>\n",
       "      <td>3289</td>\n",
       "      <td>2</td>\n",
       "      <td>4.65</td>\n",
       "    </tr>\n",
       "    <tr>\n",
       "      <th>18934</th>\n",
       "      <td>36</td>\n",
       "      <td>3290</td>\n",
       "      <td>1</td>\n",
       "      <td>4.65</td>\n",
       "    </tr>\n",
       "    <tr>\n",
       "      <th>18935</th>\n",
       "      <td>36</td>\n",
       "      <td>3318</td>\n",
       "      <td>12</td>\n",
       "      <td>0.29</td>\n",
       "    </tr>\n",
       "    <tr>\n",
       "      <th>18936</th>\n",
       "      <td>36</td>\n",
       "      <td>3319</td>\n",
       "      <td>12</td>\n",
       "      <td>0.29</td>\n",
       "    </tr>\n",
       "  </tbody>\n",
       "</table>\n",
       "<p>18937 rows × 4 columns</p>\n",
       "</div>"
      ],
      "text/plain": [
       "       Country  StockCode  Quantity  UnitPrice\n",
       "0            0         12       600       0.72\n",
       "1            0         18         3       5.95\n",
       "2            0         46       400       0.34\n",
       "3            0         51        25       0.42\n",
       "4            0        130         6       2.95\n",
       "...        ...        ...       ...        ...\n",
       "18932       36       3288         1       4.65\n",
       "18933       36       3289         2       4.65\n",
       "18934       36       3290         1       4.65\n",
       "18935       36       3318        12       0.29\n",
       "18936       36       3319        12       0.29\n",
       "\n",
       "[18937 rows x 4 columns]"
      ]
     },
     "execution_count": 20,
     "metadata": {},
     "output_type": "execute_result"
    }
   ],
   "source": [
    "X"
   ]
  },
  {
   "cell_type": "code",
   "execution_count": 21,
   "id": "975dd57b",
   "metadata": {},
   "outputs": [
    {
     "data": {
      "text/plain": [
       "0        432.00\n",
       "1         17.85\n",
       "2        136.00\n",
       "3         10.50\n",
       "4         17.70\n",
       "          ...  \n",
       "18932      4.65\n",
       "18933      9.30\n",
       "18934      4.65\n",
       "18935      3.48\n",
       "18936      3.48\n",
       "Name: Total Amount, Length: 18937, dtype: float64"
      ]
     },
     "execution_count": 21,
     "metadata": {},
     "output_type": "execute_result"
    }
   ],
   "source": [
    "y"
   ]
  },
  {
   "cell_type": "code",
   "execution_count": 22,
   "id": "ccdc6e72",
   "metadata": {},
   "outputs": [],
   "source": [
    "# Split the data into training and testing sets (80% train, 20% test)\n",
    "X_train, X_test, y_train, y_test = train_test_split(X, y, test_size=0.3, random_state=350)"
   ]
  },
  {
   "cell_type": "code",
   "execution_count": 23,
   "id": "f0d877ad",
   "metadata": {},
   "outputs": [
    {
     "name": "stdout",
     "output_type": "stream",
     "text": [
      "(18937, 4) (13255, 4) (5682, 4)\n"
     ]
    }
   ],
   "source": [
    "print(X.shape,X_train.shape,X_test.shape)"
   ]
  },
  {
   "cell_type": "code",
   "execution_count": 24,
   "id": "a96b6f67",
   "metadata": {},
   "outputs": [
    {
     "data": {
      "text/html": [
       "<style>#sk-container-id-1 {color: black;}#sk-container-id-1 pre{padding: 0;}#sk-container-id-1 div.sk-toggleable {background-color: white;}#sk-container-id-1 label.sk-toggleable__label {cursor: pointer;display: block;width: 100%;margin-bottom: 0;padding: 0.3em;box-sizing: border-box;text-align: center;}#sk-container-id-1 label.sk-toggleable__label-arrow:before {content: \"▸\";float: left;margin-right: 0.25em;color: #696969;}#sk-container-id-1 label.sk-toggleable__label-arrow:hover:before {color: black;}#sk-container-id-1 div.sk-estimator:hover label.sk-toggleable__label-arrow:before {color: black;}#sk-container-id-1 div.sk-toggleable__content {max-height: 0;max-width: 0;overflow: hidden;text-align: left;background-color: #f0f8ff;}#sk-container-id-1 div.sk-toggleable__content pre {margin: 0.2em;color: black;border-radius: 0.25em;background-color: #f0f8ff;}#sk-container-id-1 input.sk-toggleable__control:checked~div.sk-toggleable__content {max-height: 200px;max-width: 100%;overflow: auto;}#sk-container-id-1 input.sk-toggleable__control:checked~label.sk-toggleable__label-arrow:before {content: \"▾\";}#sk-container-id-1 div.sk-estimator input.sk-toggleable__control:checked~label.sk-toggleable__label {background-color: #d4ebff;}#sk-container-id-1 div.sk-label input.sk-toggleable__control:checked~label.sk-toggleable__label {background-color: #d4ebff;}#sk-container-id-1 input.sk-hidden--visually {border: 0;clip: rect(1px 1px 1px 1px);clip: rect(1px, 1px, 1px, 1px);height: 1px;margin: -1px;overflow: hidden;padding: 0;position: absolute;width: 1px;}#sk-container-id-1 div.sk-estimator {font-family: monospace;background-color: #f0f8ff;border: 1px dotted black;border-radius: 0.25em;box-sizing: border-box;margin-bottom: 0.5em;}#sk-container-id-1 div.sk-estimator:hover {background-color: #d4ebff;}#sk-container-id-1 div.sk-parallel-item::after {content: \"\";width: 100%;border-bottom: 1px solid gray;flex-grow: 1;}#sk-container-id-1 div.sk-label:hover label.sk-toggleable__label {background-color: #d4ebff;}#sk-container-id-1 div.sk-serial::before {content: \"\";position: absolute;border-left: 1px solid gray;box-sizing: border-box;top: 0;bottom: 0;left: 50%;z-index: 0;}#sk-container-id-1 div.sk-serial {display: flex;flex-direction: column;align-items: center;background-color: white;padding-right: 0.2em;padding-left: 0.2em;position: relative;}#sk-container-id-1 div.sk-item {position: relative;z-index: 1;}#sk-container-id-1 div.sk-parallel {display: flex;align-items: stretch;justify-content: center;background-color: white;position: relative;}#sk-container-id-1 div.sk-item::before, #sk-container-id-1 div.sk-parallel-item::before {content: \"\";position: absolute;border-left: 1px solid gray;box-sizing: border-box;top: 0;bottom: 0;left: 50%;z-index: -1;}#sk-container-id-1 div.sk-parallel-item {display: flex;flex-direction: column;z-index: 1;position: relative;background-color: white;}#sk-container-id-1 div.sk-parallel-item:first-child::after {align-self: flex-end;width: 50%;}#sk-container-id-1 div.sk-parallel-item:last-child::after {align-self: flex-start;width: 50%;}#sk-container-id-1 div.sk-parallel-item:only-child::after {width: 0;}#sk-container-id-1 div.sk-dashed-wrapped {border: 1px dashed gray;margin: 0 0.4em 0.5em 0.4em;box-sizing: border-box;padding-bottom: 0.4em;background-color: white;}#sk-container-id-1 div.sk-label label {font-family: monospace;font-weight: bold;display: inline-block;line-height: 1.2em;}#sk-container-id-1 div.sk-label-container {text-align: center;}#sk-container-id-1 div.sk-container {/* jupyter's `normalize.less` sets `[hidden] { display: none; }` but bootstrap.min.css set `[hidden] { display: none !important; }` so we also need the `!important` here to be able to override the default hidden behavior on the sphinx rendered scikit-learn.org. See: https://github.com/scikit-learn/scikit-learn/issues/21755 */display: inline-block !important;position: relative;}#sk-container-id-1 div.sk-text-repr-fallback {display: none;}</style><div id=\"sk-container-id-1\" class=\"sk-top-container\"><div class=\"sk-text-repr-fallback\"><pre>RandomForestRegressor(random_state=42)</pre><b>In a Jupyter environment, please rerun this cell to show the HTML representation or trust the notebook. <br />On GitHub, the HTML representation is unable to render, please try loading this page with nbviewer.org.</b></div><div class=\"sk-container\" hidden><div class=\"sk-item\"><div class=\"sk-estimator sk-toggleable\"><input class=\"sk-toggleable__control sk-hidden--visually\" id=\"sk-estimator-id-1\" type=\"checkbox\" checked><label for=\"sk-estimator-id-1\" class=\"sk-toggleable__label sk-toggleable__label-arrow\">RandomForestRegressor</label><div class=\"sk-toggleable__content\"><pre>RandomForestRegressor(random_state=42)</pre></div></div></div></div></div>"
      ],
      "text/plain": [
       "RandomForestRegressor(random_state=42)"
      ]
     },
     "execution_count": 24,
     "metadata": {},
     "output_type": "execute_result"
    }
   ],
   "source": [
    "model = RandomForestRegressor(n_estimators=100, random_state=42)\n",
    "model.fit(X_train, y_train)"
   ]
  },
  {
   "cell_type": "code",
   "execution_count": 25,
   "id": "d90f893d",
   "metadata": {},
   "outputs": [
    {
     "data": {
      "text/plain": [
       "array([ 15.3   ,  17.    , 390.5945, ...,  15.    ,  74.1379,  19.8   ])"
      ]
     },
     "execution_count": 25,
     "metadata": {},
     "output_type": "execute_result"
    }
   ],
   "source": [
    "# Model Evaluation\n",
    "y_pred = model.predict(X_test)\n",
    "y_pred"
   ]
  },
  {
   "cell_type": "code",
   "execution_count": 26,
   "id": "64f8c4c1",
   "metadata": {},
   "outputs": [
    {
     "name": "stdout",
     "output_type": "stream",
     "text": [
      "Mean Absolute Error: 104.26184137099612\n"
     ]
    }
   ],
   "source": [
    "mae = mean_absolute_error(y_test, y_pred)\n",
    "print(\"Mean Absolute Error:\", mae)"
   ]
  },
  {
   "cell_type": "code",
   "execution_count": 27,
   "id": "e5f3c93d",
   "metadata": {},
   "outputs": [
    {
     "name": "stdout",
     "output_type": "stream",
     "text": [
      "R2 score for your model is : 0.9173893757923063\n"
     ]
    }
   ],
   "source": [
    "R2_score = r2_score(y_test,y_pred)\n",
    "print(\"R2 score for your model is :\",R2_score)"
   ]
  },
  {
   "cell_type": "markdown",
   "id": "9a5e6198",
   "metadata": {},
   "source": [
    "### Building The Predictive System"
   ]
  },
  {
   "cell_type": "code",
   "execution_count": 34,
   "id": "7830d278",
   "metadata": {},
   "outputs": [
    {
     "data": {
      "text/plain": [
       "array([  34.  , 1847.  ,    6.  ,   14.95])"
      ]
     },
     "execution_count": 34,
     "metadata": {},
     "output_type": "execute_result"
    }
   ],
   "source": [
    "X_test.values[1410]"
   ]
  },
  {
   "cell_type": "code",
   "execution_count": 35,
   "id": "f7a51325",
   "metadata": {},
   "outputs": [],
   "source": [
    "stock_value = X_test.values[1410].reshape(1,-1)"
   ]
  },
  {
   "cell_type": "code",
   "execution_count": 36,
   "id": "7d316595",
   "metadata": {},
   "outputs": [
    {
     "name": "stdout",
     "output_type": "stream",
     "text": [
      "Total Amount for your StockCode 2322. in 14. Country is : 85.6079999999999\n"
     ]
    },
    {
     "name": "stderr",
     "output_type": "stream",
     "text": [
      "C:\\Users\\Admin\\Desktop\\Anaconda\\Lib\\site-packages\\sklearn\\base.py:464: UserWarning: X does not have valid feature names, but RandomForestRegressor was fitted with feature names\n",
      "  warnings.warn(\n"
     ]
    }
   ],
   "source": [
    "prediction = model.predict(stock_value)\n",
    "print(\"Total Amount for your StockCode 2322. in 14. Country is :\", prediction[0])"
   ]
  },
  {
   "cell_type": "code",
   "execution_count": 37,
   "id": "8f78997f",
   "metadata": {},
   "outputs": [
    {
     "data": {
      "text/plain": [
       "89.69999999999999"
      ]
     },
     "execution_count": 37,
     "metadata": {},
     "output_type": "execute_result"
    }
   ],
   "source": [
    "y_test.values[1410]"
   ]
  },
  {
   "cell_type": "markdown",
   "id": "95541bfc",
   "metadata": {},
   "source": [
    "### Creating a pickle file"
   ]
  },
  {
   "cell_type": "code",
   "execution_count": 38,
   "id": "2dc633bb",
   "metadata": {},
   "outputs": [],
   "source": [
    "import pickle as pkl\n",
    "file_name = 'Countrywise_Product_Sales.sav'\n",
    "pkl.dump(model,open(file_name,'wb'))"
   ]
  },
  {
   "cell_type": "code",
   "execution_count": 33,
   "id": "503a8007",
   "metadata": {},
   "outputs": [],
   "source": [
    "encoded_retail_stock.to_csv('encoded_retail_stock.csv',index=False)"
   ]
  }
 ],
 "metadata": {
  "kernelspec": {
   "display_name": "Python 3 (ipykernel)",
   "language": "python",
   "name": "python3"
  },
  "language_info": {
   "codemirror_mode": {
    "name": "ipython",
    "version": 3
   },
   "file_extension": ".py",
   "mimetype": "text/x-python",
   "name": "python",
   "nbconvert_exporter": "python",
   "pygments_lexer": "ipython3",
   "version": "3.11.5"
  }
 },
 "nbformat": 4,
 "nbformat_minor": 5
}
